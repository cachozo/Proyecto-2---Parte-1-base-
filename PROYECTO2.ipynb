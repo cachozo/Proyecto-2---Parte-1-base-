{
  "nbformat": 4,
  "nbformat_minor": 0,
  "metadata": {
    "colab": {
      "provenance": []
    },
    "kernelspec": {
      "name": "python3",
      "display_name": "Python 3"
    },
    "language_info": {
      "name": "python"
    }
  },
  "cells": [
    {
      "cell_type": "markdown",
      "source": [
        "El primer DS\n",
        "\n",
        "1. La primera opcion sería  \"[Secondary Mushroom Dataset](https://archive.ics.uci.edu/ml/datasets/Secondary+Mushroom+Dataset)\" del UCI\n",
        "\n",
        "2. Estos datos tratan sobre caracteristicas del hongo\n",
        "\n",
        "3. El objetivo será encontrar de acuerdo con las caracteristias si es venenoso o no\n",
        "\n",
        "4. Habría que adentrarse en problemas de calificación\n",
        "\n",
        "5. Tiene 20 caracteristicas\n",
        "\n",
        "6. Tiene 61 mil filas\n",
        "\n",
        "7. Hya datos que faltan or lo que habría que determinas con bjetivos y estrategias cuales se pueden eliminar o reemplazar."
      ],
      "metadata": {
        "id": "mncUe24Kkpse"
      }
    },
    {
      "cell_type": "markdown",
      "source": [
        "Segundo DS"
      ],
      "metadata": {
        "id": "gtl57APQJrT0"
      }
    },
    {
      "cell_type": "markdown",
      "source": [
        "1. La segunda opción sería [\"Cervical cancer (Risk Factors)\"](https://archive.ics.uci.edu/ml/datasets/Cervical+cancer+%28Risk+Factors%29#) del UCI. \n",
        "\n",
        "2. Estos datos sobre caracteristicas del cancer\n",
        "\n",
        "3. El objetivo es saber si tiene cancer o no la persona.\n",
        "\n",
        "4. Habría que adentrarse en problemas de calificación\n",
        "\n",
        "5. Tiene 35 caracteristicas.\n",
        "\n",
        "6. Tiene 858 datos.\n",
        "\n",
        "7. No faltan datos."
      ],
      "metadata": {
        "id": "A_iUF1YI_JNP"
      }
    }
  ]
}